{
 "cells": [
  {
   "cell_type": "code",
   "execution_count": 36,
   "metadata": {},
   "outputs": [],
   "source": [
    "import turtle"
   ]
  },
  {
   "cell_type": "code",
   "execution_count": 37,
   "metadata": {},
   "outputs": [],
   "source": [
    "tina = turtle.Turtle()\n",
    "molly = turtle.Turtle()\n",
    "george = turtle.Turtle()\n",
    "wilson = turtle.Turtle()\n",
    "\n",
    "tina.penup()\n",
    "molly.penup()\n",
    "george.penup()\n",
    "wilson.penup()\n",
    "\n",
    "tina.forward(100)\n",
    "\n",
    "molly.left(60)\n",
    "molly.color(\"yellow\")\n",
    "molly.forward(100)\n",
    "\n",
    "george.left(40)\n",
    "george.color(\"blue\")\n",
    "george.forward(100)\n",
    "\n",
    "wilson.left(20)\n",
    "wilson.color(\"green\")\n",
    "wilson.forward(100)"
   ]
  },
  {
   "cell_type": "markdown",
   "metadata": {},
   "source": [
    "## translate the pseudocode"
   ]
  },
  {
   "cell_type": "markdown",
   "metadata": {},
   "source": [
    "## helpers"
   ]
  },
  {
   "cell_type": "code",
   "execution_count": 6,
   "metadata": {},
   "outputs": [],
   "source": [
    "## get number of steps from the text line\n",
    "def getNumberOfSteps(text):\n",
    "    index = len(text)-7\n",
    "    num = ''\n",
    "    while text[index] != '_':\n",
    "        num = text[index] + num\n",
    "        index -= 1\n",
    "    return int(num)"
   ]
  },
  {
   "cell_type": "code",
   "execution_count": 7,
   "metadata": {},
   "outputs": [
    {
     "data": {
      "text/plain": [
       "10"
      ]
     },
     "execution_count": 7,
     "metadata": {},
     "output_type": "execute_result"
    }
   ],
   "source": [
    "## try\n",
    "getNumberOfSteps('    move_10_steps')"
   ]
  },
  {
   "cell_type": "code",
   "execution_count": 8,
   "metadata": {},
   "outputs": [],
   "source": [
    "## get degrees\n",
    "def getDegrees(text):\n",
    "    index = len(text)-9\n",
    "    num = ''\n",
    "    while text[index] != '_':\n",
    "        num = text[index] + num\n",
    "        index -= 1\n",
    "    return int(num)"
   ]
  },
  {
   "cell_type": "code",
   "execution_count": 9,
   "metadata": {},
   "outputs": [
    {
     "data": {
      "text/plain": [
       "15"
      ]
     },
     "execution_count": 9,
     "metadata": {},
     "output_type": "execute_result"
    }
   ],
   "source": [
    "getDegrees(\"    turnR_15_degrees\")"
   ]
  },
  {
   "cell_type": "code",
   "execution_count": 20,
   "metadata": {},
   "outputs": [],
   "source": [
    "def getXToGoTo(text):\n",
    "    index = 0\n",
    "    num = ''\n",
    "    while index < len(text):\n",
    "        if text[index] == 'x':\n",
    "            #print('x')\n",
    "            index += 2\n",
    "            while text[index] != '_':\n",
    "                num += text[index]\n",
    "                index += 1\n",
    "            break\n",
    "        index += 1\n",
    "    return int(num)"
   ]
  },
  {
   "cell_type": "code",
   "execution_count": 21,
   "metadata": {},
   "outputs": [
    {
     "data": {
      "text/plain": [
       "1"
      ]
     },
     "execution_count": 21,
     "metadata": {},
     "output_type": "execute_result"
    }
   ],
   "source": [
    "getXToGoTo(\"    go_to_x_1_y_2\")"
   ]
  },
  {
   "cell_type": "code",
   "execution_count": 22,
   "metadata": {},
   "outputs": [],
   "source": [
    "def getYToGoTo(text):\n",
    "    index = len(text) - 1\n",
    "    num = ''\n",
    "    while text[index] != '_':\n",
    "        num = text[index] + num\n",
    "        index -= 1\n",
    "    return int(num)"
   ]
  },
  {
   "cell_type": "code",
   "execution_count": 24,
   "metadata": {},
   "outputs": [
    {
     "data": {
      "text/plain": [
       "82"
      ]
     },
     "execution_count": 24,
     "metadata": {},
     "output_type": "execute_result"
    }
   ],
   "source": [
    "getYToGoTo(\"    go_to_x_1_y_82\")"
   ]
  },
  {
   "cell_type": "code",
   "execution_count": 31,
   "metadata": {},
   "outputs": [],
   "source": [
    "def getXOrYToChangeByOrToBeSet(text):\n",
    "    index = len(text) - 1\n",
    "    num = ''\n",
    "    while text[index] != '_':\n",
    "        num = text[index] + num\n",
    "        index -= 1\n",
    "    return int(num)"
   ]
  },
  {
   "cell_type": "code",
   "execution_count": 32,
   "metadata": {},
   "outputs": [
    {
     "data": {
      "text/plain": [
       "10"
      ]
     },
     "execution_count": 32,
     "metadata": {},
     "output_type": "execute_result"
    }
   ],
   "source": [
    "getXOrYToChangeByOrToBeSet('    change_x_by_10')"
   ]
  },
  {
   "cell_type": "code",
   "execution_count": 33,
   "metadata": {},
   "outputs": [
    {
     "data": {
      "text/plain": [
       "15"
      ]
     },
     "execution_count": 33,
     "metadata": {},
     "output_type": "execute_result"
    }
   ],
   "source": [
    "getXOrYToChangeByOrToBeSet('    change_y_by_15')"
   ]
  },
  {
   "cell_type": "code",
   "execution_count": 35,
   "metadata": {},
   "outputs": [
    {
     "data": {
      "text/plain": [
       "20"
      ]
     },
     "execution_count": 35,
     "metadata": {},
     "output_type": "execute_result"
    }
   ],
   "source": [
    "getXOrYToChangeByOrToBeSet('    set_y_20')\n",
    "    "
   ]
  },
  {
   "cell_type": "markdown",
   "metadata": {},
   "source": [
    "## generate the python code"
   ]
  },
  {
   "cell_type": "code",
   "execution_count": null,
   "metadata": {},
   "outputs": [],
   "source": []
  }
 ],
 "metadata": {
  "kernelspec": {
   "display_name": "Python 3",
   "language": "python",
   "name": "python3"
  },
  "language_info": {
   "codemirror_mode": {
    "name": "ipython",
    "version": 3
   },
   "file_extension": ".py",
   "mimetype": "text/x-python",
   "name": "python",
   "nbconvert_exporter": "python",
   "pygments_lexer": "ipython3",
   "version": "3.7.3"
  }
 },
 "nbformat": 4,
 "nbformat_minor": 5
}
