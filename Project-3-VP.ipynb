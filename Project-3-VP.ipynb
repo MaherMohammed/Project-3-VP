{
 "cells": [
  {
   "cell_type": "code",
   "execution_count": 13,
   "metadata": {},
   "outputs": [],
   "source": [
    "import turtle"
   ]
  },
  {
   "cell_type": "code",
   "execution_count": null,
   "metadata": {},
   "outputs": [
    {
     "name": "stderr",
     "output_type": "stream",
     "text": [
      "ERROR:root:Internal Python error in the inspect module.\n",
      "Below is the traceback from this internal error.\n",
      "\n",
      "ERROR:root:Internal Python error in the inspect module.\n",
      "Below is the traceback from this internal error.\n",
      "\n",
      "ERROR:root:Internal Python error in the inspect module.\n",
      "Below is the traceback from this internal error.\n",
      "\n"
     ]
    },
    {
     "name": "stdout",
     "output_type": "stream",
     "text": [
      "Traceback (most recent call last):\n",
      "  File \"/home/m/anaconda3/lib/python3.8/site-packages/IPython/core/interactiveshell.py\", line 3437, in run_code\n",
      "    exec(code_obj, self.user_global_ns, self.user_ns)\n",
      "  File \"<ipython-input-15-62114cd58209>\", line 2, in <module>\n",
      "    molly = turtle.Turtle()\n",
      "  File \"/home/m/anaconda3/lib/python3.8/turtle.py\", line 3814, in __init__\n",
      "    RawTurtle.__init__(self, Turtle._screen,\n",
      "  File \"/home/m/anaconda3/lib/python3.8/turtle.py\", line 2558, in __init__\n",
      "    self._update()\n",
      "  File \"/home/m/anaconda3/lib/python3.8/turtle.py\", line 2661, in _update\n",
      "    self._update_data()\n",
      "  File \"/home/m/anaconda3/lib/python3.8/turtle.py\", line 2647, in _update_data\n",
      "    self.screen._incrementudc()\n",
      "  File \"/home/m/anaconda3/lib/python3.8/turtle.py\", line 1293, in _incrementudc\n",
      "    raise Terminator\n",
      "turtle.Terminator\n",
      "\n",
      "During handling of the above exception, another exception occurred:\n",
      "\n",
      "Traceback (most recent call last):\n",
      "  File \"/home/m/anaconda3/lib/python3.8/site-packages/IPython/core/interactiveshell.py\", line 2061, in showtraceback\n",
      "    stb = value._render_traceback_()\n",
      "AttributeError: 'Terminator' object has no attribute '_render_traceback_'\n",
      "\n",
      "During handling of the above exception, another exception occurred:\n",
      "\n",
      "Traceback (most recent call last):\n",
      "  File \"/home/m/anaconda3/lib/python3.8/site-packages/IPython/core/ultratb.py\", line 1101, in get_records\n",
      "    return _fixed_getinnerframes(etb, number_of_lines_of_context, tb_offset)\n",
      "  File \"/home/m/anaconda3/lib/python3.8/site-packages/IPython/core/ultratb.py\", line 248, in wrapped\n",
      "    return f(*args, **kwargs)\n",
      "  File \"/home/m/anaconda3/lib/python3.8/site-packages/IPython/core/ultratb.py\", line 281, in _fixed_getinnerframes\n",
      "    records = fix_frame_records_filenames(inspect.getinnerframes(etb, context))\n",
      "  File \"/home/m/anaconda3/lib/python3.8/inspect.py\", line 1515, in getinnerframes\n",
      "    frameinfo = (tb.tb_frame,) + getframeinfo(tb, context)\n",
      "  File \"/home/m/anaconda3/lib/python3.8/inspect.py\", line 1473, in getframeinfo\n",
      "    filename = getsourcefile(frame) or getfile(frame)\n",
      "  File \"/home/m/anaconda3/lib/python3.8/inspect.py\", line 708, in getsourcefile\n",
      "    if getattr(getmodule(object, filename), '__loader__', None) is not None:\n",
      "  File \"/home/m/anaconda3/lib/python3.8/inspect.py\", line 737, in getmodule\n",
      "    file = getabsfile(object, _filename)\n",
      "  File \"/home/m/anaconda3/lib/python3.8/inspect.py\", line 721, in getabsfile\n",
      "    return os.path.normcase(os.path.abspath(_filename))\n",
      "  File \"/home/m/anaconda3/lib/python3.8/posixpath.py\", line 379, in abspath\n",
      "    cwd = os.getcwd()\n",
      "FileNotFoundError: [Errno 2] No such file or directory\n",
      "Traceback (most recent call last):\n",
      "  File \"/home/m/anaconda3/lib/python3.8/site-packages/IPython/core/interactiveshell.py\", line 3437, in run_code\n",
      "    exec(code_obj, self.user_global_ns, self.user_ns)\n",
      "  File \"<ipython-input-15-62114cd58209>\", line 2, in <module>\n",
      "    molly = turtle.Turtle()\n",
      "  File \"/home/m/anaconda3/lib/python3.8/turtle.py\", line 3814, in __init__\n",
      "    RawTurtle.__init__(self, Turtle._screen,\n",
      "  File \"/home/m/anaconda3/lib/python3.8/turtle.py\", line 2558, in __init__\n",
      "    self._update()\n",
      "  File \"/home/m/anaconda3/lib/python3.8/turtle.py\", line 2661, in _update\n",
      "    self._update_data()\n",
      "  File \"/home/m/anaconda3/lib/python3.8/turtle.py\", line 2647, in _update_data\n",
      "    self.screen._incrementudc()\n",
      "  File \"/home/m/anaconda3/lib/python3.8/turtle.py\", line 1293, in _incrementudc\n",
      "    raise Terminator\n",
      "turtle.Terminator\n",
      "\n",
      "During handling of the above exception, another exception occurred:\n",
      "\n",
      "Traceback (most recent call last):\n",
      "  File \"/home/m/anaconda3/lib/python3.8/site-packages/IPython/core/interactiveshell.py\", line 2061, in showtraceback\n",
      "    stb = value._render_traceback_()\n",
      "AttributeError: 'Terminator' object has no attribute '_render_traceback_'\n",
      "\n",
      "During handling of the above exception, another exception occurred:\n",
      "\n",
      "Traceback (most recent call last):\n",
      "  File \"/home/m/anaconda3/lib/python3.8/site-packages/IPython/core/interactiveshell.py\", line 3357, in run_ast_nodes\n",
      "    if (await self.run_code(code, result,  async_=asy)):\n",
      "  File \"/home/m/anaconda3/lib/python3.8/site-packages/IPython/core/interactiveshell.py\", line 3454, in run_code\n",
      "    self.showtraceback(running_compiled_code=True)\n",
      "  File \"/home/m/anaconda3/lib/python3.8/site-packages/IPython/core/interactiveshell.py\", line 2063, in showtraceback\n",
      "    stb = self.InteractiveTB.structured_traceback(etype,\n",
      "  File \"/home/m/anaconda3/lib/python3.8/site-packages/IPython/core/ultratb.py\", line 1367, in structured_traceback\n",
      "    return FormattedTB.structured_traceback(\n",
      "  File \"/home/m/anaconda3/lib/python3.8/site-packages/IPython/core/ultratb.py\", line 1267, in structured_traceback\n",
      "    return VerboseTB.structured_traceback(\n",
      "  File \"/home/m/anaconda3/lib/python3.8/site-packages/IPython/core/ultratb.py\", line 1124, in structured_traceback\n",
      "    formatted_exception = self.format_exception_as_a_whole(etype, evalue, etb, number_of_lines_of_context,\n",
      "  File \"/home/m/anaconda3/lib/python3.8/site-packages/IPython/core/ultratb.py\", line 1082, in format_exception_as_a_whole\n",
      "    last_unique, recursion_repeat = find_recursion(orig_etype, evalue, records)\n",
      "  File \"/home/m/anaconda3/lib/python3.8/site-packages/IPython/core/ultratb.py\", line 382, in find_recursion\n",
      "    return len(records), 0\n",
      "TypeError: object of type 'NoneType' has no len()\n",
      "\n",
      "During handling of the above exception, another exception occurred:\n",
      "\n",
      "Traceback (most recent call last):\n",
      "  File \"/home/m/anaconda3/lib/python3.8/site-packages/IPython/core/interactiveshell.py\", line 2061, in showtraceback\n",
      "    stb = value._render_traceback_()\n",
      "AttributeError: 'TypeError' object has no attribute '_render_traceback_'\n",
      "\n",
      "During handling of the above exception, another exception occurred:\n",
      "\n",
      "Traceback (most recent call last):\n",
      "  File \"/home/m/anaconda3/lib/python3.8/site-packages/IPython/core/ultratb.py\", line 1101, in get_records\n",
      "    return _fixed_getinnerframes(etb, number_of_lines_of_context, tb_offset)\n",
      "  File \"/home/m/anaconda3/lib/python3.8/site-packages/IPython/core/ultratb.py\", line 248, in wrapped\n",
      "    return f(*args, **kwargs)\n",
      "  File \"/home/m/anaconda3/lib/python3.8/site-packages/IPython/core/ultratb.py\", line 281, in _fixed_getinnerframes\n",
      "    records = fix_frame_records_filenames(inspect.getinnerframes(etb, context))\n",
      "  File \"/home/m/anaconda3/lib/python3.8/inspect.py\", line 1515, in getinnerframes\n",
      "    frameinfo = (tb.tb_frame,) + getframeinfo(tb, context)\n",
      "  File \"/home/m/anaconda3/lib/python3.8/inspect.py\", line 1473, in getframeinfo\n",
      "    filename = getsourcefile(frame) or getfile(frame)\n",
      "  File \"/home/m/anaconda3/lib/python3.8/inspect.py\", line 708, in getsourcefile\n",
      "    if getattr(getmodule(object, filename), '__loader__', None) is not None:\n",
      "  File \"/home/m/anaconda3/lib/python3.8/inspect.py\", line 737, in getmodule\n",
      "    file = getabsfile(object, _filename)\n",
      "  File \"/home/m/anaconda3/lib/python3.8/inspect.py\", line 721, in getabsfile\n",
      "    return os.path.normcase(os.path.abspath(_filename))\n",
      "  File \"/home/m/anaconda3/lib/python3.8/posixpath.py\", line 379, in abspath\n",
      "    cwd = os.getcwd()\n",
      "FileNotFoundError: [Errno 2] No such file or directory\n",
      "Traceback (most recent call last):\n",
      "  File \"/home/m/anaconda3/lib/python3.8/site-packages/IPython/core/interactiveshell.py\", line 3437, in run_code\n",
      "    exec(code_obj, self.user_global_ns, self.user_ns)\n",
      "  File \"<ipython-input-15-62114cd58209>\", line 2, in <module>\n",
      "    molly = turtle.Turtle()\n",
      "  File \"/home/m/anaconda3/lib/python3.8/turtle.py\", line 3814, in __init__\n",
      "    RawTurtle.__init__(self, Turtle._screen,\n",
      "  File \"/home/m/anaconda3/lib/python3.8/turtle.py\", line 2558, in __init__\n",
      "    self._update()\n",
      "  File \"/home/m/anaconda3/lib/python3.8/turtle.py\", line 2661, in _update\n",
      "    self._update_data()\n",
      "  File \"/home/m/anaconda3/lib/python3.8/turtle.py\", line 2647, in _update_data\n",
      "    self.screen._incrementudc()\n",
      "  File \"/home/m/anaconda3/lib/python3.8/turtle.py\", line 1293, in _incrementudc\n",
      "    raise Terminator\n",
      "turtle.Terminator\n",
      "\n",
      "During handling of the above exception, another exception occurred:\n",
      "\n",
      "Traceback (most recent call last):\n",
      "  File \"/home/m/anaconda3/lib/python3.8/site-packages/IPython/core/interactiveshell.py\", line 2061, in showtraceback\n",
      "    stb = value._render_traceback_()\n",
      "AttributeError: 'Terminator' object has no attribute '_render_traceback_'\n",
      "\n",
      "During handling of the above exception, another exception occurred:\n",
      "\n",
      "Traceback (most recent call last):\n",
      "  File \"/home/m/anaconda3/lib/python3.8/site-packages/IPython/core/interactiveshell.py\", line 3357, in run_ast_nodes\n",
      "    if (await self.run_code(code, result,  async_=asy)):\n",
      "  File \"/home/m/anaconda3/lib/python3.8/site-packages/IPython/core/interactiveshell.py\", line 3454, in run_code\n",
      "    self.showtraceback(running_compiled_code=True)\n",
      "  File \"/home/m/anaconda3/lib/python3.8/site-packages/IPython/core/interactiveshell.py\", line 2063, in showtraceback\n",
      "    stb = self.InteractiveTB.structured_traceback(etype,\n",
      "  File \"/home/m/anaconda3/lib/python3.8/site-packages/IPython/core/ultratb.py\", line 1367, in structured_traceback\n",
      "    return FormattedTB.structured_traceback(\n",
      "  File \"/home/m/anaconda3/lib/python3.8/site-packages/IPython/core/ultratb.py\", line 1267, in structured_traceback\n",
      "    return VerboseTB.structured_traceback(\n",
      "  File \"/home/m/anaconda3/lib/python3.8/site-packages/IPython/core/ultratb.py\", line 1124, in structured_traceback\n",
      "    formatted_exception = self.format_exception_as_a_whole(etype, evalue, etb, number_of_lines_of_context,\n",
      "  File \"/home/m/anaconda3/lib/python3.8/site-packages/IPython/core/ultratb.py\", line 1082, in format_exception_as_a_whole\n",
      "    last_unique, recursion_repeat = find_recursion(orig_etype, evalue, records)\n",
      "  File \"/home/m/anaconda3/lib/python3.8/site-packages/IPython/core/ultratb.py\", line 382, in find_recursion\n",
      "    return len(records), 0\n",
      "TypeError: object of type 'NoneType' has no len()\n",
      "\n",
      "During handling of the above exception, another exception occurred:\n",
      "\n",
      "Traceback (most recent call last):\n",
      "  File \"/home/m/anaconda3/lib/python3.8/site-packages/IPython/core/interactiveshell.py\", line 2061, in showtraceback\n",
      "    stb = value._render_traceback_()\n",
      "AttributeError: 'TypeError' object has no attribute '_render_traceback_'\n",
      "\n",
      "During handling of the above exception, another exception occurred:\n",
      "\n",
      "Traceback (most recent call last):\n",
      "  File \"/home/m/anaconda3/lib/python3.8/site-packages/IPython/core/interactiveshell.py\", line 2940, in _run_cell\n",
      "    return runner(coro)\n",
      "  File \"/home/m/anaconda3/lib/python3.8/site-packages/IPython/core/async_helpers.py\", line 68, in _pseudo_sync_runner\n",
      "    coro.send(None)\n",
      "  File \"/home/m/anaconda3/lib/python3.8/site-packages/IPython/core/interactiveshell.py\", line 3165, in run_cell_async\n",
      "    has_raised = await self.run_ast_nodes(code_ast.body, cell_name,\n",
      "  File \"/home/m/anaconda3/lib/python3.8/site-packages/IPython/core/interactiveshell.py\", line 3376, in run_ast_nodes\n",
      "    self.showtraceback()\n",
      "  File \"/home/m/anaconda3/lib/python3.8/site-packages/IPython/core/interactiveshell.py\", line 2063, in showtraceback\n",
      "    stb = self.InteractiveTB.structured_traceback(etype,\n",
      "  File \"/home/m/anaconda3/lib/python3.8/site-packages/IPython/core/ultratb.py\", line 1367, in structured_traceback\n",
      "    return FormattedTB.structured_traceback(\n",
      "  File \"/home/m/anaconda3/lib/python3.8/site-packages/IPython/core/ultratb.py\", line 1267, in structured_traceback\n",
      "    return VerboseTB.structured_traceback(\n",
      "  File \"/home/m/anaconda3/lib/python3.8/site-packages/IPython/core/ultratb.py\", line 1142, in structured_traceback\n",
      "    formatted_exceptions += self.format_exception_as_a_whole(etype, evalue, etb, lines_of_context,\n",
      "  File \"/home/m/anaconda3/lib/python3.8/site-packages/IPython/core/ultratb.py\", line 1082, in format_exception_as_a_whole\n",
      "    last_unique, recursion_repeat = find_recursion(orig_etype, evalue, records)\n",
      "  File \"/home/m/anaconda3/lib/python3.8/site-packages/IPython/core/ultratb.py\", line 382, in find_recursion\n",
      "    return len(records), 0\n",
      "TypeError: object of type 'NoneType' has no len()\n",
      "\n",
      "During handling of the above exception, another exception occurred:\n",
      "\n",
      "Traceback (most recent call last):\n",
      "  File \"/home/m/anaconda3/lib/python3.8/site-packages/IPython/core/interactiveshell.py\", line 2061, in showtraceback\n",
      "    stb = value._render_traceback_()\n",
      "AttributeError: 'TypeError' object has no attribute '_render_traceback_'\n",
      "\n",
      "During handling of the above exception, another exception occurred:\n",
      "\n",
      "Traceback (most recent call last):\n",
      "  File \"/home/m/anaconda3/lib/python3.8/site-packages/IPython/core/ultratb.py\", line 1101, in get_records\n",
      "    return _fixed_getinnerframes(etb, number_of_lines_of_context, tb_offset)\n",
      "  File \"/home/m/anaconda3/lib/python3.8/site-packages/IPython/core/ultratb.py\", line 248, in wrapped\n",
      "    return f(*args, **kwargs)\n",
      "  File \"/home/m/anaconda3/lib/python3.8/site-packages/IPython/core/ultratb.py\", line 281, in _fixed_getinnerframes\n",
      "    records = fix_frame_records_filenames(inspect.getinnerframes(etb, context))\n",
      "  File \"/home/m/anaconda3/lib/python3.8/inspect.py\", line 1515, in getinnerframes\n",
      "    frameinfo = (tb.tb_frame,) + getframeinfo(tb, context)\n",
      "  File \"/home/m/anaconda3/lib/python3.8/inspect.py\", line 1473, in getframeinfo\n",
      "    filename = getsourcefile(frame) or getfile(frame)\n",
      "  File \"/home/m/anaconda3/lib/python3.8/inspect.py\", line 708, in getsourcefile\n",
      "    if getattr(getmodule(object, filename), '__loader__', None) is not None:\n",
      "  File \"/home/m/anaconda3/lib/python3.8/inspect.py\", line 737, in getmodule\n",
      "    file = getabsfile(object, _filename)\n",
      "  File \"/home/m/anaconda3/lib/python3.8/inspect.py\", line 721, in getabsfile\n",
      "    return os.path.normcase(os.path.abspath(_filename))\n",
      "  File \"/home/m/anaconda3/lib/python3.8/posixpath.py\", line 379, in abspath\n",
      "    cwd = os.getcwd()\n",
      "FileNotFoundError: [Errno 2] No such file or directory\n"
     ]
    }
   ],
   "source": [
    "\n",
    "tina = turtle.Turtle()\n",
    "molly = turtle.Turtle()\n",
    "george = turtle.Turtle()\n",
    "wilson = turtle.Turtle()\n",
    "\n",
    "## penup will not draw on the screen\n",
    "tina.penup()\n",
    "molly.penup()\n",
    "george.penup()\n",
    "wilson.penup()\n",
    "\n",
    "tina.forward(100)\n",
    "\n",
    "molly.left(60)\n",
    "molly.color(\"yellow\")\n",
    "molly.forward(100)\n",
    "\n",
    "george.left(40)\n",
    "george.color(\"blue\")\n",
    "george.forward(100)\n",
    "\n",
    "wilson.left(20)\n",
    "wilson.color(\"green\")\n",
    "wilson.forward(100)"
   ]
  },
  {
   "cell_type": "markdown",
   "metadata": {},
   "source": [
    "## translate the pseudocode"
   ]
  },
  {
   "cell_type": "markdown",
   "metadata": {},
   "source": [
    "## helpers"
   ]
  },
  {
   "cell_type": "code",
   "execution_count": 2,
   "metadata": {},
   "outputs": [],
   "source": [
    "## get number of steps from the text line\n",
    "def getNumberOfSteps(text):\n",
    "    index = len(text)-7\n",
    "    num = ''\n",
    "    while text[index] != '_':\n",
    "        num = text[index] + num\n",
    "        index -= 1\n",
    "    return int(num)"
   ]
  },
  {
   "cell_type": "code",
   "execution_count": 3,
   "metadata": {},
   "outputs": [
    {
     "data": {
      "text/plain": [
       "10"
      ]
     },
     "execution_count": 3,
     "metadata": {},
     "output_type": "execute_result"
    }
   ],
   "source": [
    "## try\n",
    "getNumberOfSteps('    move_10_steps')"
   ]
  },
  {
   "cell_type": "code",
   "execution_count": 4,
   "metadata": {},
   "outputs": [],
   "source": [
    "## get degrees\n",
    "def getDegrees(text):\n",
    "    index = len(text)-9\n",
    "    num = ''\n",
    "    while text[index] != '_':\n",
    "        num = text[index] + num\n",
    "        index -= 1\n",
    "    return int(num)"
   ]
  },
  {
   "cell_type": "code",
   "execution_count": 5,
   "metadata": {},
   "outputs": [
    {
     "data": {
      "text/plain": [
       "15"
      ]
     },
     "execution_count": 5,
     "metadata": {},
     "output_type": "execute_result"
    }
   ],
   "source": [
    "getDegrees(\"    turnR_15_degrees\")"
   ]
  },
  {
   "cell_type": "code",
   "execution_count": 6,
   "metadata": {},
   "outputs": [],
   "source": [
    "def getXToGoTo(text):\n",
    "    index = 0\n",
    "    num = ''\n",
    "    while index < len(text):\n",
    "        if text[index] == 'x':\n",
    "            #print('x')\n",
    "            index += 2\n",
    "            while text[index] != '_':\n",
    "                num += text[index]\n",
    "                index += 1\n",
    "            break\n",
    "        index += 1\n",
    "    return int(num)"
   ]
  },
  {
   "cell_type": "code",
   "execution_count": 7,
   "metadata": {},
   "outputs": [
    {
     "data": {
      "text/plain": [
       "1"
      ]
     },
     "execution_count": 7,
     "metadata": {},
     "output_type": "execute_result"
    }
   ],
   "source": [
    "getXToGoTo(\"    go_to_x_1_y_2\")"
   ]
  },
  {
   "cell_type": "code",
   "execution_count": 8,
   "metadata": {},
   "outputs": [],
   "source": [
    "def getYToGoTo(text):\n",
    "    index = len(text) - 1\n",
    "    num = ''\n",
    "    while text[index] != '_':\n",
    "        num = text[index] + num\n",
    "        index -= 1\n",
    "    return int(num)"
   ]
  },
  {
   "cell_type": "code",
   "execution_count": 9,
   "metadata": {},
   "outputs": [
    {
     "data": {
      "text/plain": [
       "82"
      ]
     },
     "execution_count": 9,
     "metadata": {},
     "output_type": "execute_result"
    }
   ],
   "source": [
    "getYToGoTo(\"    go_to_x_1_y_82\")"
   ]
  },
  {
   "cell_type": "code",
   "execution_count": 10,
   "metadata": {},
   "outputs": [],
   "source": [
    "def getXOrYToChangeByOrToBeSet(text):\n",
    "    index = len(text) - 1\n",
    "    num = ''\n",
    "    while text[index] != '_':\n",
    "        num = text[index] + num\n",
    "        index -= 1\n",
    "    return int(num)"
   ]
  },
  {
   "cell_type": "code",
   "execution_count": 11,
   "metadata": {},
   "outputs": [
    {
     "data": {
      "text/plain": [
       "10"
      ]
     },
     "execution_count": 11,
     "metadata": {},
     "output_type": "execute_result"
    }
   ],
   "source": [
    "getXOrYToChangeByOrToBeSet('    change_x_by_10')"
   ]
  },
  {
   "cell_type": "code",
   "execution_count": 12,
   "metadata": {},
   "outputs": [
    {
     "data": {
      "text/plain": [
       "15"
      ]
     },
     "execution_count": 12,
     "metadata": {},
     "output_type": "execute_result"
    }
   ],
   "source": [
    "getXOrYToChangeByOrToBeSet('    change_y_by_15')"
   ]
  },
  {
   "cell_type": "code",
   "execution_count": 13,
   "metadata": {},
   "outputs": [
    {
     "data": {
      "text/plain": [
       "20"
      ]
     },
     "execution_count": 13,
     "metadata": {},
     "output_type": "execute_result"
    }
   ],
   "source": [
    "getXOrYToChangeByOrToBeSet('    set_y_20')\n",
    "    "
   ]
  },
  {
   "cell_type": "markdown",
   "metadata": {},
   "source": [
    "## create the gui"
   ]
  },
  {
   "cell_type": "code",
   "execution_count": 14,
   "metadata": {},
   "outputs": [
    {
     "ename": "NameError",
     "evalue": "name 'keys' is not defined",
     "output_type": "error",
     "traceback": [
      "\u001b[1;31m---------------------------------------------------------------------------\u001b[0m",
      "\u001b[1;31mNameError\u001b[0m                                 Traceback (most recent call last)",
      "\u001b[1;32m<ipython-input-14-b0f4f3e9ef4d>\u001b[0m in \u001b[0;36m<module>\u001b[1;34m\u001b[0m\n\u001b[0;32m     51\u001b[0m \u001b[1;33m\u001b[0m\u001b[0m\n\u001b[0;32m     52\u001b[0m \u001b[1;33m\u001b[0m\u001b[0m\n\u001b[1;32m---> 53\u001b[1;33m \u001b[0mscreen\u001b[0m\u001b[1;33m.\u001b[0m\u001b[0monkeypress\u001b[0m\u001b[1;33m(\u001b[0m\u001b[0mmoveTurtle\u001b[0m\u001b[1;33m,\u001b[0m\u001b[0mkeys\u001b[0m\u001b[1;33m)\u001b[0m\u001b[1;33m\u001b[0m\u001b[1;33m\u001b[0m\u001b[0m\n\u001b[0m\u001b[0;32m     54\u001b[0m \u001b[0mturtle\u001b[0m\u001b[1;33m.\u001b[0m\u001b[0mlisten\u001b[0m\u001b[1;33m(\u001b[0m\u001b[1;33m)\u001b[0m\u001b[1;33m\u001b[0m\u001b[1;33m\u001b[0m\u001b[0m\n\u001b[0;32m     55\u001b[0m \u001b[0mkeys\u001b[0m \u001b[1;33m=\u001b[0m \u001b[1;34m'space'\u001b[0m\u001b[1;33m\u001b[0m\u001b[1;33m\u001b[0m\u001b[0m\n",
      "\u001b[1;31mNameError\u001b[0m: name 'keys' is not defined"
     ]
    }
   ],
   "source": [
    "screen = turtle.Screen()\n",
    "screen.title('Project 3 VP')\n",
    "\n",
    "# draw green flag and its click function\n",
    "pen = turtle.Turtle()\n",
    "pen.hideturtle()\n",
    "pen.fillcolor('green')\n",
    "\n",
    "button_x = -510\n",
    "button_y = 350\n",
    "buttonLength = 100\n",
    "buttonWidth = 50\n",
    "\n",
    "def drawGreenFlag():\n",
    "    pen.penup()\n",
    "    pen.begin_fill()\n",
    "    pen.goto(button_x,button_y)\n",
    "    pen.goto(button_x + buttonLength, button_y)\n",
    "    pen.goto(button_x + buttonLength, button_y + buttonWidth)\n",
    "    pen.goto(button_x, button_y + buttonWidth)\n",
    "    pen.goto(button_x, button_y)\n",
    "    pen.end_fill()\n",
    "    #pen.goto(button_x + 15, button_y + 15)\n",
    "    \n",
    "    \n",
    "drawGreenFlag()\n",
    "\n",
    "def greenFlag_clicked(x,y):\n",
    "    if button_x <= x <= button_x + buttonLength:\n",
    "        if button_y <= y <= button_y + buttonWidth:\n",
    "            print('clicked')\n",
    "\n",
    "            \n",
    "\n",
    "    \n",
    "screen.onclick(greenFlag_clicked)\n",
    "\n",
    "# draw the player itself\n",
    "t = turtle.Turtle()\n",
    "t.penup()\n",
    "t.shape('turtle')\n",
    "t.shapesize(5,5,5)\n",
    "t.color('purple')\n",
    "\n",
    "\n",
    "def moveTurtle():\n",
    "    t.forward(100)\n",
    "\n",
    "\n",
    "    \n",
    "\n",
    "\n",
    "screen.onkeypress(moveTurtle,keys)\n",
    "turtle.listen()\n",
    "keys = 'space'\n",
    "\n",
    "\n",
    "\n",
    "turtle.done()"
   ]
  },
  {
   "cell_type": "code",
   "execution_count": 17,
   "metadata": {},
   "outputs": [],
   "source": [
    "import keyboard\n",
    "\n"
   ]
  },
  {
   "cell_type": "code",
   "execution_count": null,
   "metadata": {},
   "outputs": [],
   "source": []
  },
  {
   "cell_type": "code",
   "execution_count": null,
   "metadata": {},
   "outputs": [],
   "source": []
  },
  {
   "cell_type": "code",
   "execution_count": null,
   "metadata": {},
   "outputs": [],
   "source": []
  },
  {
   "cell_type": "markdown",
   "metadata": {},
   "source": [
    "## generate the python code"
   ]
  },
  {
   "cell_type": "code",
   "execution_count": 6,
   "metadata": {},
   "outputs": [
    {
     "name": "stdout",
     "output_type": "stream",
     "text": [
      "when_space_isClicked\n",
      "\n",
      "  BEGIN\n",
      "\n",
      "    move_10_steps\n",
      "\n",
      "    turnR_15_degrees\n",
      "\n",
      "    go_to_x_1_y_2\n",
      "\n",
      "    change_x_by_10\n",
      "\n",
      "    set_x_11\n",
      "\n",
      "    change_y_by_10\n",
      "\n",
      "    set_y_2\n",
      "\n",
      "  END\n",
      "\n",
      "when_GF_isClicked\n",
      "\n",
      "  BEGIN\n",
      "\n",
      "    say_Hello!\n",
      "\n",
      "    say_Hello!_for_2_seconds\n",
      "\n",
      "    think_Hmm...\n",
      "\n",
      "    think_Hmm..._for_2_seconds\n",
      "\n",
      "  END\n",
      "\n",
      "forever\n",
      "\n",
      "  BEGIN\n",
      "\n",
      "    say_Hello!\n",
      "\n",
      "  END\n",
      "\n",
      "if_apple_contains_a\n",
      "\n",
      "  BEGIN\n",
      "\n",
      "    move_10_steps\n",
      "\n",
      "  END\n",
      "\n",
      "if_apple_contains_a\n",
      "\n",
      "  BEGIN\n",
      "\n",
      "    move_10_steps\n",
      "\n",
      "  END\n",
      "\n",
      "ELSE\n",
      "\n",
      "  BEGIN\n",
      "\n",
      "    turnL_15_degrees\n",
      "\n",
      "  END\n",
      "\n",
      "repeat_until_a_isClicked\n",
      "\n",
      "  BEGIN\n",
      "\n",
      "    move_5_steps\n",
      "\n",
      "  END\n",
      "\n",
      "repeat_10_times\n",
      "\n",
      "  BEGIN\n",
      "\n",
      "    move_10_steps\n",
      "\n",
      "    wait_1\n",
      "\n",
      "  END\n",
      "\n",
      "turnR_15_degrees\n",
      "\n",
      "repeat_10_times\n",
      "\n",
      "  BEGIN\n",
      "\n",
      "    move_10_steps\n",
      "\n",
      "    wait_until_up arrow_isClicked\n",
      "\n",
      "  END\n",
      "\n",
      "turnR_15_degrees\n",
      "\n"
     ]
    }
   ],
   "source": [
    "## read pseudocode line by line and translate it to python code\n",
    "## key pressed\n",
    "key = ''\n",
    "file = open('pseudocode.txt','r')\n",
    "Lines = file.readlines()\n",
    "\n",
    "\n",
    "def getBody(lines):\n",
    "    \n",
    "\n",
    "pythonCode = ''\n",
    "for line in Lines:\n",
    "    if line.strip() == 'when_space_isClicked':\n",
    "        pythonCode += 'key = extractKey(\"when_space_isClicked\")\\n'\n",
    "        \n",
    "    elif line.strip() == 'BEGIN':\n",
    "        pythonCode += ':'\n",
    "    elif line.strip().find('move_') == 1:\n",
    "        pythonCode += 'moveFunction()'\n"
   ]
  },
  {
   "cell_type": "code",
   "execution_count": 11,
   "metadata": {},
   "outputs": [
    {
     "name": "stdout",
     "output_type": "stream",
     "text": [
      " maher\"maher\" \n"
     ]
    }
   ],
   "source": [
    "s = ' maher\"maher\" '\n",
    "print(s)"
   ]
  }
 ],
 "metadata": {
  "kernelspec": {
   "display_name": "Python 3",
   "language": "python",
   "name": "python3"
  },
  "language_info": {
   "codemirror_mode": {
    "name": "ipython",
    "version": 3
   },
   "file_extension": ".py",
   "mimetype": "text/x-python",
   "name": "python",
   "nbconvert_exporter": "python",
   "pygments_lexer": "ipython3",
   "version": "3.7.3"
  }
 },
 "nbformat": 4,
 "nbformat_minor": 5
}
