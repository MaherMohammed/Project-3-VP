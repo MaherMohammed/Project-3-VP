{
 "cells": [
  {
   "cell_type": "code",
   "execution_count": 1,
   "id": "e3aa457e",
   "metadata": {},
   "outputs": [],
   "source": [
    "import turtle"
   ]
  },
  {
   "cell_type": "code",
   "execution_count": null,
   "id": "b2678783",
   "metadata": {},
   "outputs": [
    {
     "name": "stderr",
     "output_type": "stream",
     "text": [
      "ERROR:root:Internal Python error in the inspect module.\n",
      "Below is the traceback from this internal error.\n",
      "\n",
      "ERROR:root:Internal Python error in the inspect module.\n",
      "Below is the traceback from this internal error.\n",
      "\n",
      "ERROR:root:Internal Python error in the inspect module.\n",
      "Below is the traceback from this internal error.\n",
      "\n"
     ]
    },
    {
     "name": "stdout",
     "output_type": "stream",
     "text": [
      "Traceback (most recent call last):\n",
      "  File \"/home/m/anaconda3/lib/python3.8/site-packages/IPython/core/interactiveshell.py\", line 3437, in run_code\n",
      "    exec(code_obj, self.user_global_ns, self.user_ns)\n",
      "  File \"<ipython-input-15-62114cd58209>\", line 2, in <module>\n",
      "    molly = turtle.Turtle()\n",
      "  File \"/home/m/anaconda3/lib/python3.8/turtle.py\", line 3814, in __init__\n",
      "    RawTurtle.__init__(self, Turtle._screen,\n",
      "  File \"/home/m/anaconda3/lib/python3.8/turtle.py\", line 2558, in __init__\n",
      "    self._update()\n",
      "  File \"/home/m/anaconda3/lib/python3.8/turtle.py\", line 2661, in _update\n",
      "    self._update_data()\n",
      "  File \"/home/m/anaconda3/lib/python3.8/turtle.py\", line 2647, in _update_data\n",
      "    self.screen._incrementudc()\n",
      "  File \"/home/m/anaconda3/lib/python3.8/turtle.py\", line 1293, in _incrementudc\n",
      "    raise Terminator\n",
      "turtle.Terminator\n",
      "\n",
      "During handling of the above exception, another exception occurred:\n",
      "\n",
      "Traceback (most recent call last):\n",
      "  File \"/home/m/anaconda3/lib/python3.8/site-packages/IPython/core/interactiveshell.py\", line 2061, in showtraceback\n",
      "    stb = value._render_traceback_()\n",
      "AttributeError: 'Terminator' object has no attribute '_render_traceback_'\n",
      "\n",
      "During handling of the above exception, another exception occurred:\n",
      "\n",
      "Traceback (most recent call last):\n",
      "  File \"/home/m/anaconda3/lib/python3.8/site-packages/IPython/core/ultratb.py\", line 1101, in get_records\n",
      "    return _fixed_getinnerframes(etb, number_of_lines_of_context, tb_offset)\n",
      "  File \"/home/m/anaconda3/lib/python3.8/site-packages/IPython/core/ultratb.py\", line 248, in wrapped\n",
      "    return f(*args, **kwargs)\n",
      "  File \"/home/m/anaconda3/lib/python3.8/site-packages/IPython/core/ultratb.py\", line 281, in _fixed_getinnerframes\n",
      "    records = fix_frame_records_filenames(inspect.getinnerframes(etb, context))\n",
      "  File \"/home/m/anaconda3/lib/python3.8/inspect.py\", line 1515, in getinnerframes\n",
      "    frameinfo = (tb.tb_frame,) + getframeinfo(tb, context)\n",
      "  File \"/home/m/anaconda3/lib/python3.8/inspect.py\", line 1473, in getframeinfo\n",
      "    filename = getsourcefile(frame) or getfile(frame)\n",
      "  File \"/home/m/anaconda3/lib/python3.8/inspect.py\", line 708, in getsourcefile\n",
      "    if getattr(getmodule(object, filename), '__loader__', None) is not None:\n",
      "  File \"/home/m/anaconda3/lib/python3.8/inspect.py\", line 737, in getmodule\n",
      "    file = getabsfile(object, _filename)\n",
      "  File \"/home/m/anaconda3/lib/python3.8/inspect.py\", line 721, in getabsfile\n",
      "    return os.path.normcase(os.path.abspath(_filename))\n",
      "  File \"/home/m/anaconda3/lib/python3.8/posixpath.py\", line 379, in abspath\n",
      "    cwd = os.getcwd()\n",
      "FileNotFoundError: [Errno 2] No such file or directory\n",
      "Traceback (most recent call last):\n",
      "  File \"/home/m/anaconda3/lib/python3.8/site-packages/IPython/core/interactiveshell.py\", line 3437, in run_code\n",
      "    exec(code_obj, self.user_global_ns, self.user_ns)\n",
      "  File \"<ipython-input-15-62114cd58209>\", line 2, in <module>\n",
      "    molly = turtle.Turtle()\n",
      "  File \"/home/m/anaconda3/lib/python3.8/turtle.py\", line 3814, in __init__\n",
      "    RawTurtle.__init__(self, Turtle._screen,\n",
      "  File \"/home/m/anaconda3/lib/python3.8/turtle.py\", line 2558, in __init__\n",
      "    self._update()\n",
      "  File \"/home/m/anaconda3/lib/python3.8/turtle.py\", line 2661, in _update\n",
      "    self._update_data()\n",
      "  File \"/home/m/anaconda3/lib/python3.8/turtle.py\", line 2647, in _update_data\n",
      "    self.screen._incrementudc()\n",
      "  File \"/home/m/anaconda3/lib/python3.8/turtle.py\", line 1293, in _incrementudc\n",
      "    raise Terminator\n",
      "turtle.Terminator\n",
      "\n",
      "During handling of the above exception, another exception occurred:\n",
      "\n",
      "Traceback (most recent call last):\n",
      "  File \"/home/m/anaconda3/lib/python3.8/site-packages/IPython/core/interactiveshell.py\", line 2061, in showtraceback\n",
      "    stb = value._render_traceback_()\n",
      "AttributeError: 'Terminator' object has no attribute '_render_traceback_'\n",
      "\n",
      "During handling of the above exception, another exception occurred:\n",
      "\n",
      "Traceback (most recent call last):\n",
      "  File \"/home/m/anaconda3/lib/python3.8/site-packages/IPython/core/interactiveshell.py\", line 3357, in run_ast_nodes\n",
      "    if (await self.run_code(code, result,  async_=asy)):\n",
      "  File \"/home/m/anaconda3/lib/python3.8/site-packages/IPython/core/interactiveshell.py\", line 3454, in run_code\n",
      "    self.showtraceback(running_compiled_code=True)\n",
      "  File \"/home/m/anaconda3/lib/python3.8/site-packages/IPython/core/interactiveshell.py\", line 2063, in showtraceback\n",
      "    stb = self.InteractiveTB.structured_traceback(etype,\n",
      "  File \"/home/m/anaconda3/lib/python3.8/site-packages/IPython/core/ultratb.py\", line 1367, in structured_traceback\n",
      "    return FormattedTB.structured_traceback(\n",
      "  File \"/home/m/anaconda3/lib/python3.8/site-packages/IPython/core/ultratb.py\", line 1267, in structured_traceback\n",
      "    return VerboseTB.structured_traceback(\n",
      "  File \"/home/m/anaconda3/lib/python3.8/site-packages/IPython/core/ultratb.py\", line 1124, in structured_traceback\n",
      "    formatted_exception = self.format_exception_as_a_whole(etype, evalue, etb, number_of_lines_of_context,\n",
      "  File \"/home/m/anaconda3/lib/python3.8/site-packages/IPython/core/ultratb.py\", line 1082, in format_exception_as_a_whole\n",
      "    last_unique, recursion_repeat = find_recursion(orig_etype, evalue, records)\n",
      "  File \"/home/m/anaconda3/lib/python3.8/site-packages/IPython/core/ultratb.py\", line 382, in find_recursion\n",
      "    return len(records), 0\n",
      "TypeError: object of type 'NoneType' has no len()\n",
      "\n",
      "During handling of the above exception, another exception occurred:\n",
      "\n",
      "Traceback (most recent call last):\n",
      "  File \"/home/m/anaconda3/lib/python3.8/site-packages/IPython/core/interactiveshell.py\", line 2061, in showtraceback\n",
      "    stb = value._render_traceback_()\n",
      "AttributeError: 'TypeError' object has no attribute '_render_traceback_'\n",
      "\n",
      "During handling of the above exception, another exception occurred:\n",
      "\n",
      "Traceback (most recent call last):\n",
      "  File \"/home/m/anaconda3/lib/python3.8/site-packages/IPython/core/ultratb.py\", line 1101, in get_records\n",
      "    return _fixed_getinnerframes(etb, number_of_lines_of_context, tb_offset)\n",
      "  File \"/home/m/anaconda3/lib/python3.8/site-packages/IPython/core/ultratb.py\", line 248, in wrapped\n",
      "    return f(*args, **kwargs)\n",
      "  File \"/home/m/anaconda3/lib/python3.8/site-packages/IPython/core/ultratb.py\", line 281, in _fixed_getinnerframes\n",
      "    records = fix_frame_records_filenames(inspect.getinnerframes(etb, context))\n",
      "  File \"/home/m/anaconda3/lib/python3.8/inspect.py\", line 1515, in getinnerframes\n",
      "    frameinfo = (tb.tb_frame,) + getframeinfo(tb, context)\n",
      "  File \"/home/m/anaconda3/lib/python3.8/inspect.py\", line 1473, in getframeinfo\n",
      "    filename = getsourcefile(frame) or getfile(frame)\n",
      "  File \"/home/m/anaconda3/lib/python3.8/inspect.py\", line 708, in getsourcefile\n",
      "    if getattr(getmodule(object, filename), '__loader__', None) is not None:\n",
      "  File \"/home/m/anaconda3/lib/python3.8/inspect.py\", line 737, in getmodule\n",
      "    file = getabsfile(object, _filename)\n",
      "  File \"/home/m/anaconda3/lib/python3.8/inspect.py\", line 721, in getabsfile\n",
      "    return os.path.normcase(os.path.abspath(_filename))\n",
      "  File \"/home/m/anaconda3/lib/python3.8/posixpath.py\", line 379, in abspath\n",
      "    cwd = os.getcwd()\n",
      "FileNotFoundError: [Errno 2] No such file or directory\n",
      "Traceback (most recent call last):\n",
      "  File \"/home/m/anaconda3/lib/python3.8/site-packages/IPython/core/interactiveshell.py\", line 3437, in run_code\n",
      "    exec(code_obj, self.user_global_ns, self.user_ns)\n",
      "  File \"<ipython-input-15-62114cd58209>\", line 2, in <module>\n",
      "    molly = turtle.Turtle()\n",
      "  File \"/home/m/anaconda3/lib/python3.8/turtle.py\", line 3814, in __init__\n",
      "    RawTurtle.__init__(self, Turtle._screen,\n",
      "  File \"/home/m/anaconda3/lib/python3.8/turtle.py\", line 2558, in __init__\n",
      "    self._update()\n",
      "  File \"/home/m/anaconda3/lib/python3.8/turtle.py\", line 2661, in _update\n",
      "    self._update_data()\n",
      "  File \"/home/m/anaconda3/lib/python3.8/turtle.py\", line 2647, in _update_data\n",
      "    self.screen._incrementudc()\n",
      "  File \"/home/m/anaconda3/lib/python3.8/turtle.py\", line 1293, in _incrementudc\n",
      "    raise Terminator\n",
      "turtle.Terminator\n",
      "\n",
      "During handling of the above exception, another exception occurred:\n",
      "\n",
      "Traceback (most recent call last):\n",
      "  File \"/home/m/anaconda3/lib/python3.8/site-packages/IPython/core/interactiveshell.py\", line 2061, in showtraceback\n",
      "    stb = value._render_traceback_()\n",
      "AttributeError: 'Terminator' object has no attribute '_render_traceback_'\n",
      "\n",
      "During handling of the above exception, another exception occurred:\n",
      "\n",
      "Traceback (most recent call last):\n",
      "  File \"/home/m/anaconda3/lib/python3.8/site-packages/IPython/core/interactiveshell.py\", line 3357, in run_ast_nodes\n",
      "    if (await self.run_code(code, result,  async_=asy)):\n",
      "  File \"/home/m/anaconda3/lib/python3.8/site-packages/IPython/core/interactiveshell.py\", line 3454, in run_code\n",
      "    self.showtraceback(running_compiled_code=True)\n",
      "  File \"/home/m/anaconda3/lib/python3.8/site-packages/IPython/core/interactiveshell.py\", line 2063, in showtraceback\n",
      "    stb = self.InteractiveTB.structured_traceback(etype,\n",
      "  File \"/home/m/anaconda3/lib/python3.8/site-packages/IPython/core/ultratb.py\", line 1367, in structured_traceback\n",
      "    return FormattedTB.structured_traceback(\n",
      "  File \"/home/m/anaconda3/lib/python3.8/site-packages/IPython/core/ultratb.py\", line 1267, in structured_traceback\n",
      "    return VerboseTB.structured_traceback(\n",
      "  File \"/home/m/anaconda3/lib/python3.8/site-packages/IPython/core/ultratb.py\", line 1124, in structured_traceback\n",
      "    formatted_exception = self.format_exception_as_a_whole(etype, evalue, etb, number_of_lines_of_context,\n",
      "  File \"/home/m/anaconda3/lib/python3.8/site-packages/IPython/core/ultratb.py\", line 1082, in format_exception_as_a_whole\n",
      "    last_unique, recursion_repeat = find_recursion(orig_etype, evalue, records)\n",
      "  File \"/home/m/anaconda3/lib/python3.8/site-packages/IPython/core/ultratb.py\", line 382, in find_recursion\n",
      "    return len(records), 0\n",
      "TypeError: object of type 'NoneType' has no len()\n",
      "\n",
      "During handling of the above exception, another exception occurred:\n",
      "\n",
      "Traceback (most recent call last):\n",
      "  File \"/home/m/anaconda3/lib/python3.8/site-packages/IPython/core/interactiveshell.py\", line 2061, in showtraceback\n",
      "    stb = value._render_traceback_()\n",
      "AttributeError: 'TypeError' object has no attribute '_render_traceback_'\n",
      "\n",
      "During handling of the above exception, another exception occurred:\n",
      "\n",
      "Traceback (most recent call last):\n",
      "  File \"/home/m/anaconda3/lib/python3.8/site-packages/IPython/core/interactiveshell.py\", line 2940, in _run_cell\n",
      "    return runner(coro)\n",
      "  File \"/home/m/anaconda3/lib/python3.8/site-packages/IPython/core/async_helpers.py\", line 68, in _pseudo_sync_runner\n",
      "    coro.send(None)\n",
      "  File \"/home/m/anaconda3/lib/python3.8/site-packages/IPython/core/interactiveshell.py\", line 3165, in run_cell_async\n",
      "    has_raised = await self.run_ast_nodes(code_ast.body, cell_name,\n",
      "  File \"/home/m/anaconda3/lib/python3.8/site-packages/IPython/core/interactiveshell.py\", line 3376, in run_ast_nodes\n",
      "    self.showtraceback()\n",
      "  File \"/home/m/anaconda3/lib/python3.8/site-packages/IPython/core/interactiveshell.py\", line 2063, in showtraceback\n",
      "    stb = self.InteractiveTB.structured_traceback(etype,\n",
      "  File \"/home/m/anaconda3/lib/python3.8/site-packages/IPython/core/ultratb.py\", line 1367, in structured_traceback\n",
      "    return FormattedTB.structured_traceback(\n",
      "  File \"/home/m/anaconda3/lib/python3.8/site-packages/IPython/core/ultratb.py\", line 1267, in structured_traceback\n",
      "    return VerboseTB.structured_traceback(\n",
      "  File \"/home/m/anaconda3/lib/python3.8/site-packages/IPython/core/ultratb.py\", line 1142, in structured_traceback\n",
      "    formatted_exceptions += self.format_exception_as_a_whole(etype, evalue, etb, lines_of_context,\n",
      "  File \"/home/m/anaconda3/lib/python3.8/site-packages/IPython/core/ultratb.py\", line 1082, in format_exception_as_a_whole\n",
      "    last_unique, recursion_repeat = find_recursion(orig_etype, evalue, records)\n",
      "  File \"/home/m/anaconda3/lib/python3.8/site-packages/IPython/core/ultratb.py\", line 382, in find_recursion\n",
      "    return len(records), 0\n",
      "TypeError: object of type 'NoneType' has no len()\n",
      "\n",
      "During handling of the above exception, another exception occurred:\n",
      "\n",
      "Traceback (most recent call last):\n",
      "  File \"/home/m/anaconda3/lib/python3.8/site-packages/IPython/core/interactiveshell.py\", line 2061, in showtraceback\n",
      "    stb = value._render_traceback_()\n",
      "AttributeError: 'TypeError' object has no attribute '_render_traceback_'\n",
      "\n",
      "During handling of the above exception, another exception occurred:\n",
      "\n",
      "Traceback (most recent call last):\n",
      "  File \"/home/m/anaconda3/lib/python3.8/site-packages/IPython/core/ultratb.py\", line 1101, in get_records\n",
      "    return _fixed_getinnerframes(etb, number_of_lines_of_context, tb_offset)\n",
      "  File \"/home/m/anaconda3/lib/python3.8/site-packages/IPython/core/ultratb.py\", line 248, in wrapped\n",
      "    return f(*args, **kwargs)\n",
      "  File \"/home/m/anaconda3/lib/python3.8/site-packages/IPython/core/ultratb.py\", line 281, in _fixed_getinnerframes\n",
      "    records = fix_frame_records_filenames(inspect.getinnerframes(etb, context))\n",
      "  File \"/home/m/anaconda3/lib/python3.8/inspect.py\", line 1515, in getinnerframes\n",
      "    frameinfo = (tb.tb_frame,) + getframeinfo(tb, context)\n",
      "  File \"/home/m/anaconda3/lib/python3.8/inspect.py\", line 1473, in getframeinfo\n",
      "    filename = getsourcefile(frame) or getfile(frame)\n",
      "  File \"/home/m/anaconda3/lib/python3.8/inspect.py\", line 708, in getsourcefile\n",
      "    if getattr(getmodule(object, filename), '__loader__', None) is not None:\n",
      "  File \"/home/m/anaconda3/lib/python3.8/inspect.py\", line 737, in getmodule\n",
      "    file = getabsfile(object, _filename)\n",
      "  File \"/home/m/anaconda3/lib/python3.8/inspect.py\", line 721, in getabsfile\n",
      "    return os.path.normcase(os.path.abspath(_filename))\n",
      "  File \"/home/m/anaconda3/lib/python3.8/posixpath.py\", line 379, in abspath\n",
      "    cwd = os.getcwd()\n",
      "FileNotFoundError: [Errno 2] No such file or directory\n"
     ]
    }
   ],
   "source": [
    "\n",
    "tina = turtle.Turtle()\n",
    "molly = turtle.Turtle()\n",
    "george = turtle.Turtle()\n",
    "wilson = turtle.Turtle()\n",
    "\n",
    "## penup will not draw on the screen\n",
    "tina.penup()\n",
    "molly.penup()\n",
    "george.penup()\n",
    "wilson.penup()\n",
    "\n",
    "tina.forward(100)\n",
    "\n",
    "molly.left(60)\n",
    "molly.color(\"yellow\")\n",
    "molly.forward(100)\n",
    "\n",
    "george.left(40)\n",
    "george.color(\"blue\")\n",
    "george.forward(100)\n",
    "\n",
    "wilson.left(20)\n",
    "wilson.color(\"green\")\n",
    "wilson.forward(100)"
   ]
  },
  {
   "cell_type": "markdown",
   "id": "0731641c",
   "metadata": {},
   "source": [
    "## translate the pseudocode"
   ]
  },
  {
   "cell_type": "markdown",
   "id": "dc94438e",
   "metadata": {},
   "source": [
    "## helpers"
   ]
  },
  {
   "cell_type": "code",
   "execution_count": 2,
   "id": "074df317",
   "metadata": {},
   "outputs": [],
   "source": [
    "## get number of steps from the text line\n",
    "def getNumberOfSteps(text):\n",
    "    index = len(text)-7\n",
    "    num = ''\n",
    "    while text[index] != '_':\n",
    "        num = text[index] + num\n",
    "        index -= 1\n",
    "    return int(num)"
   ]
  },
  {
   "cell_type": "code",
   "execution_count": 3,
   "id": "f01e4c3e",
   "metadata": {},
   "outputs": [
    {
     "data": {
      "text/plain": [
       "10"
      ]
     },
     "execution_count": 3,
     "metadata": {},
     "output_type": "execute_result"
    }
   ],
   "source": [
    "## try\n",
    "getNumberOfSteps('    move_10_steps')"
   ]
  },
  {
   "cell_type": "code",
   "execution_count": 4,
   "id": "66fb1978",
   "metadata": {},
   "outputs": [],
   "source": [
    "## get degrees\n",
    "def getDegrees(text):\n",
    "    index = len(text)-9\n",
    "    num = ''\n",
    "    while text[index] != '_':\n",
    "        num = text[index] + num\n",
    "        index -= 1\n",
    "    return int(num)"
   ]
  },
  {
   "cell_type": "code",
   "execution_count": 5,
   "id": "0354addd",
   "metadata": {},
   "outputs": [
    {
     "data": {
      "text/plain": [
       "15"
      ]
     },
     "execution_count": 5,
     "metadata": {},
     "output_type": "execute_result"
    }
   ],
   "source": [
    "getDegrees(\"    turnR_15_degrees\")"
   ]
  },
  {
   "cell_type": "code",
   "execution_count": 6,
   "id": "3a4061a6",
   "metadata": {},
   "outputs": [],
   "source": [
    "def getXToGoTo(text):\n",
    "    index = 0\n",
    "    num = ''\n",
    "    while index < len(text):\n",
    "        if text[index] == 'x':\n",
    "            #print('x')\n",
    "            index += 2\n",
    "            while text[index] != '_':\n",
    "                num += text[index]\n",
    "                index += 1\n",
    "            break\n",
    "        index += 1\n",
    "    return int(num)"
   ]
  },
  {
   "cell_type": "code",
   "execution_count": 7,
   "id": "e72eebf6",
   "metadata": {},
   "outputs": [
    {
     "data": {
      "text/plain": [
       "1"
      ]
     },
     "execution_count": 7,
     "metadata": {},
     "output_type": "execute_result"
    }
   ],
   "source": [
    "getXToGoTo(\"    go_to_x_1_y_2\")"
   ]
  },
  {
   "cell_type": "code",
   "execution_count": 8,
   "id": "d8f1025e",
   "metadata": {},
   "outputs": [],
   "source": [
    "def getYToGoTo(text):\n",
    "    index = len(text) - 1\n",
    "    num = ''\n",
    "    while text[index] != '_':\n",
    "        num = text[index] + num\n",
    "        index -= 1\n",
    "    return int(num)"
   ]
  },
  {
   "cell_type": "code",
   "execution_count": 9,
   "id": "12c7124a",
   "metadata": {},
   "outputs": [
    {
     "data": {
      "text/plain": [
       "82"
      ]
     },
     "execution_count": 9,
     "metadata": {},
     "output_type": "execute_result"
    }
   ],
   "source": [
    "getYToGoTo(\"    go_to_x_1_y_82\")"
   ]
  },
  {
   "cell_type": "code",
   "execution_count": 10,
   "id": "bb860eeb",
   "metadata": {},
   "outputs": [],
   "source": [
    "def getXOrYToChangeByOrToBeSet(text):\n",
    "    index = len(text) - 1\n",
    "    num = ''\n",
    "    while text[index] != '_':\n",
    "        num = text[index] + num\n",
    "        index -= 1\n",
    "    return int(num)"
   ]
  },
  {
   "cell_type": "code",
   "execution_count": 11,
   "id": "369599a1",
   "metadata": {},
   "outputs": [
    {
     "data": {
      "text/plain": [
       "10"
      ]
     },
     "execution_count": 11,
     "metadata": {},
     "output_type": "execute_result"
    }
   ],
   "source": [
    "getXOrYToChangeByOrToBeSet('    change_x_by_10')"
   ]
  },
  {
   "cell_type": "code",
   "execution_count": 12,
   "id": "56684569",
   "metadata": {},
   "outputs": [
    {
     "data": {
      "text/plain": [
       "15"
      ]
     },
     "execution_count": 12,
     "metadata": {},
     "output_type": "execute_result"
    }
   ],
   "source": [
    "getXOrYToChangeByOrToBeSet('    change_y_by_15')"
   ]
  },
  {
   "cell_type": "code",
   "execution_count": 13,
   "id": "29f3f511",
   "metadata": {},
   "outputs": [
    {
     "data": {
      "text/plain": [
       "20"
      ]
     },
     "execution_count": 13,
     "metadata": {},
     "output_type": "execute_result"
    }
   ],
   "source": [
    "getXOrYToChangeByOrToBeSet('    set_y_20')\n",
    "    "
   ]
  },
  {
   "cell_type": "markdown",
   "id": "cbc0a415",
   "metadata": {},
   "source": [
    "## create the gui"
   ]
  },
  {
   "cell_type": "code",
   "execution_count": 22,
   "id": "a7954247",
   "metadata": {},
   "outputs": [],
   "source": [
    "screen = turtle.Screen()\n",
    "screen.title('Project 3 VP')\n",
    "\n",
    "# draw green flag and its click function\n",
    "pen = turtle.Turtle()\n",
    "pen.hideturtle()\n",
    "pen.fillcolor('green')\n",
    "\n",
    "button_x = -510\n",
    "button_y = 350\n",
    "buttonLength = 100\n",
    "buttonWidth = 50\n",
    "\n",
    "def drawGreenFlag():\n",
    "    pen.penup()\n",
    "    pen.begin_fill()\n",
    "    pen.goto(button_x,button_y)\n",
    "    pen.goto(button_x + buttonLength, button_y)\n",
    "    pen.goto(button_x + buttonLength, button_y + buttonWidth)\n",
    "    pen.goto(button_x, button_y + buttonWidth)\n",
    "    pen.goto(button_x, button_y)\n",
    "    pen.end_fill()\n",
    "    #pen.goto(button_x + 15, button_y + 15)\n",
    "    \n",
    "    \n",
    "drawGreenFlag()\n",
    "\n",
    "def greenFlag_clicked(x,y):\n",
    "    if button_x <= x <= button_x + buttonLength:\n",
    "        if button_y <= y <= button_y + buttonWidth:\n",
    "            print('clicked')\n",
    "\n",
    "            \n",
    "\n",
    "    \n",
    "screen.onclick(greenFlag_clicked)\n",
    "\n",
    "# draw the player itself\n",
    "t = turtle.Turtle()\n",
    "t.penup()\n",
    "t.shape('turtle')\n",
    "t.shapesize(5,5,5)\n",
    "t.color('purple')\n",
    "\n",
    "\n",
    "def moveTurtle():\n",
    "    t.forward(100)\n",
    "\n",
    "\n",
    "    \n",
    "\n",
    "\n",
    "screen.onkeypress(moveTurtle,'space')\n",
    "turtle.listen()\n",
    "key = 'a'\n",
    "screen.onkeypress(moveTurtle,key)\n",
    "\n",
    "\n",
    "\n",
    "turtle.done()"
   ]
  },
  {
   "cell_type": "code",
   "execution_count": 19,
   "id": "0d173dd3",
   "metadata": {},
   "outputs": [],
   "source": [
    "import keyboard\n",
    "\n"
   ]
  },
  {
   "cell_type": "code",
   "execution_count": null,
   "id": "72d1468b",
   "metadata": {},
   "outputs": [],
   "source": []
  },
  {
   "cell_type": "code",
   "execution_count": null,
   "id": "9dd80821",
   "metadata": {},
   "outputs": [],
   "source": []
  },
  {
   "cell_type": "code",
   "execution_count": null,
   "id": "5f7f075d",
   "metadata": {},
   "outputs": [],
   "source": []
  },
  {
   "cell_type": "markdown",
   "id": "a0dd6384",
   "metadata": {},
   "source": [
    "## generate the python code"
   ]
  },
  {
   "cell_type": "code",
   "execution_count": null,
   "id": "6fe6b070",
   "metadata": {},
   "outputs": [],
   "source": [
    "def getBody():\n",
    "    "
   ]
  },
  {
   "cell_type": "code",
   "execution_count": 51,
   "id": "9e1b11c7",
   "metadata": {},
   "outputs": [
    {
     "name": "stdout",
     "output_type": "stream",
     "text": [
      "    moveFunction(\"move_10_steps\")\n",
      "\n",
      "    turnRightFunction(\"turnR_15_degrees\")\n",
      "\n",
      "    goToFunction(\"go_to_x_1_y_2\")\n",
      "\n",
      "    changeXByFunction(\"change_x_by_10\")\n",
      "\n",
      "    setXFunction(\"set_x_11\")\n",
      "\n",
      "    changeYByFunction(\"change_y_by_10\")\n",
      "\n",
      "    setYFunction(\"set_y_2\")\n",
      "\n",
      "    sayFunction(\"say_Hello!\")\n",
      "\n",
      "    sayForFunction(\"say_Hello!_for_2_seconds\")\n",
      "\n",
      "    thinkFunction(\"think_Hmm...\")\n",
      "\n",
      "while True:\n",
      "\n",
      "    sayFunction(\"say_Hello!\")\n",
      "\n",
      "    moveFunction(\"move_10_steps\")\n",
      "\n",
      "    moveFunction(\"move_10_steps\")\n",
      "\n",
      "    turnLeftFunction(\"turnL_15_degrees\")\n",
      "\n",
      "    moveFunction(\"move_5_steps\")\n",
      "\n",
      "    moveFunction(\"move_10_steps\")\n",
      "\n",
      "    waitFunction(\"wait_1\")\n",
      "\n",
      "turnRightFunction(\"turnR_15_degrees\")\n",
      "\n",
      "    moveFunction(\"move_10_steps\")\n",
      "\n",
      "turnRightFunction(\"turnR_15_degrees\")\n",
      "\n",
      "\n"
     ]
    }
   ],
   "source": [
    "## read pseudocode line by line and translate it to python code\n",
    "## key pressed\n",
    "key = ''\n",
    "file = open('pseudocode.txt','r')\n",
    "Lines = file.readlines()\n",
    "    \n",
    "\n",
    "pythonCode = ''\n",
    "index = 0\n",
    "while index < len(Lines):\n",
    "    line = Lines[index]\n",
    "    if line.find('forever') != -1:\n",
    "        line = line.replace('forever', 'while True:')\n",
    "        pythonCode += line + '\\n'\n",
    "    elif line.find('move_') != -1:\n",
    "        trimmed = line.strip()\n",
    "        line = line.replace(trimmed, 'moveFunction('+'\"'+trimmed+'\"'+')')\n",
    "        pythonCode += line + '\\n'\n",
    "    elif line.find('turnR_') != -1:\n",
    "        trimmed = line.strip()\n",
    "        line = line.replace(trimmed, 'turnRightFunction('+'\"'+trimmed+'\"'+')')\n",
    "        pythonCode += line + '\\n'\n",
    "    elif line.find('turnL_') != -1:\n",
    "        trimmed = line.strip()\n",
    "        line = line.replace(trimmed, 'turnLeftFunction('+'\"'+trimmed+'\"'+')')\n",
    "        pythonCode += line + '\\n'\n",
    "    elif line.find('go_to_') != -1:\n",
    "        trimmed = line.strip()\n",
    "        line = line.replace(trimmed, 'goToFunction('+'\"'+trimmed+'\"'+')')\n",
    "        pythonCode += line + '\\n'\n",
    "    elif line.find('change_x_by_') != -1:\n",
    "        trimmed = line.strip()\n",
    "        line = line.replace(trimmed, 'changeXByFunction('+'\"'+trimmed+'\"'+')')\n",
    "        pythonCode += line + '\\n'\n",
    "    elif line.find('change_y_by_') != -1:\n",
    "        trimmed = line.strip()\n",
    "        line = line.replace(trimmed, 'changeYByFunction('+'\"'+trimmed+'\"'+')')\n",
    "        pythonCode += line + '\\n'\n",
    "    elif line.find('set_x') != -1:\n",
    "        trimmed = line.strip()\n",
    "        line = line.replace(trimmed, 'setXFunction('+'\"'+trimmed+'\"'+')')\n",
    "        pythonCode += line + '\\n'\n",
    "    elif line.find('set_y') != -1:\n",
    "        trimmed = line.strip()\n",
    "        line = line.replace(trimmed, 'setYFunction('+'\"'+trimmed+'\"'+')')\n",
    "        pythonCode += line + '\\n'\n",
    "    elif line.find('say_') != -1 and line.find('_for_') == -1:\n",
    "        trimmed = line.strip()\n",
    "        line = line.replace(trimmed, 'sayFunction('+'\"'+trimmed+'\"'+')')\n",
    "        pythonCode += line + '\\n'\n",
    "    elif line.find('say_') != -1 and line.find('_for_') != -1:\n",
    "        trimmed = line.strip()\n",
    "        line = line.replace(trimmed, 'sayForFunction('+'\"'+trimmed+'\"'+')')\n",
    "        pythonCode += line + '\\n'\n",
    "    elif line.find('think_') != -1 and line.find('for') == -1:\n",
    "        trimmed = line.strip()\n",
    "        line = line.replace(trimmed, 'thinkFunction('+'\"'+trimmed+'\"'+')')\n",
    "        pythonCode += line + '\\n'\n",
    "    elif line.find('thnink') != -1 and line.find('for') != -1:\n",
    "        trimmed = line.strip()\n",
    "        line = line.replace(trimmed, 'thinkForFunction('+'\"'+trimmed+'\"'+')')\n",
    "        pythonCode += line + '\\n'\n",
    "    elif line.find('wait_') != -1 and line.find('until') == -1:\n",
    "        trimmed = line.strip()\n",
    "        line = line.replace(trimmed, 'waitFunction('+'\"'+trimmed+'\"'+')')\n",
    "        pythonCode += line + '\\n'\n",
    "    elif ine.find('wait_') != -1 and line.find('until') != -1:\n",
    "        trimmed = line.strip()\n",
    "        line = line.replace(trimmed, 'waitUntilFunction('+'\"'+trimmed+'\"'+')')\n",
    "        pythonCode += line + '\\n'\n",
    "    elif\n",
    "    \n",
    "    index += 1\n",
    "\n",
    "        \n",
    "print(pythonCode)    \n",
    "    "
   ]
  },
  {
   "cell_type": "code",
   "execution_count": 24,
   "id": "61e946bd",
   "metadata": {},
   "outputs": [
    {
     "name": "stdout",
     "output_type": "stream",
     "text": [
      "49\n"
     ]
    }
   ],
   "source": [
    "file = open('pseudocode.txt','r')\n",
    "Lines = file.readlines()\n",
    "print(len(Lines))"
   ]
  },
  {
   "cell_type": "code",
   "execution_count": 43,
   "id": "ffd87db9",
   "metadata": {},
   "outputs": [
    {
     "name": "stdout",
     "output_type": "stream",
     "text": [
      "-1\n"
     ]
    }
   ],
   "source": [
    "s = '    move_10_steps'\n",
    "print(s.find('mve_'))"
   ]
  }
 ],
 "metadata": {
  "kernelspec": {
   "display_name": "Python 3",
   "language": "python",
   "name": "python3"
  },
  "language_info": {
   "codemirror_mode": {
    "name": "ipython",
    "version": 3
   },
   "file_extension": ".py",
   "mimetype": "text/x-python",
   "name": "python",
   "nbconvert_exporter": "python",
   "pygments_lexer": "ipython3",
   "version": "3.8.8"
  }
 },
 "nbformat": 4,
 "nbformat_minor": 5
}
